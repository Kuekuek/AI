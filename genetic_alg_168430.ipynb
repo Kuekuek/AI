{
 "cells": [
  {
   "cell_type": "code",
   "execution_count": 104,
   "metadata": {},
   "outputs": [],
   "source": [
    "import random"
   ]
  },
  {
   "cell_type": "code",
   "execution_count": 105,
   "metadata": {},
   "outputs": [],
   "source": [
    "# Define the graph representing the train network\n",
    "graph = {\n",
    "    'EL ROSARIO': {'INSTITUTO DEL PETROLEO': 6, 'TACUBA': 4},\n",
    "    'INSTITUTO DEL PETROLEO': {'EL ROSARIO': 6, 'DEPORTIVO 18 DE MARZO': 2, 'LA RAZA': 2},\n",
    "    'DEPORTIVO 18 DE MARZO': {'INSTITUTO DEL PETROLEO': 2,'LA RAZA': 2, 'MARTIN CARRERA': 2},\n",
    "    'MARTIN CARRERA': {'DEPORTIVO 18 DE MARZO': 2, 'CONSULADO': 2},\n",
    "    'LA RAZA': {'DEPORTIVO 18 DE MARZO': 2, 'INSTITUTO DEL PETROLEO': 2, 'GUERRERO': 2, 'CONSULADO': 3},\n",
    "    'CONSULADO': {'LA RAZA': 3, 'MARTIN CARRERA': 2, 'OCEANIA': 3, 'MORELOS': 2},\n",
    "    'TACUBA': {'EL ROSARIO': 4, 'HIDALGO': 7, 'TACUBAYA': 5},\n",
    "    'GUERRERO': {'LA RAZA': 2, 'HIDALGO': 1, 'GARIBALDI': 1},\n",
    "    'GARIBALDI': {'MORELOS': 3, 'BELLAS ARTES': 1, 'GUERRERO': 1},\n",
    "    'OCEANIA': {'CONSULADO': 3, 'SAN LAZARO': 3, 'PANTITLAN': 3},\n",
    "    'MORELOS': {'GARIBALDI': 3, 'CONSULADO': 2, 'SAN LAZARO': 1, 'CANDELARIA': 1},\n",
    "    'HIDALGO': {'TACUBA': 7, 'GUERRERO': 1, 'BELLAS ARTES': 1, 'BALDERAS': 2},\n",
    "    'BELLAS ARTES': {'HIDALGO': 1, 'SALTO DEL AGUA': 2, 'GARIBALDI': 1, 'PINO SUAREZ': 3},\n",
    "    'SAN LAZARO': {'MORELOS': 1, 'CANDELARIA': 1, 'PANTITLAN': 6, 'OCEANIA': 3},\n",
    "    'BALDERAS': {'TACUBAYA': 6, 'HIDALGO': 2, 'SALTO DEL AGUA': 1, 'CENTRO MEDICO': 3},\n",
    "    'SALTO DEL AGUA': {'BELLAS ARTES': 2, 'BALDERAS': 1, 'PINO SUAREZ': 2, 'CHABACANO': 3},\n",
    "    'PINO SUAREZ': {'BELLAS ARTES': 3, 'SALTO DEL AGUA': 2, 'CANDELARIA': 2, 'CHABACANO': 1},\n",
    "    'CANDELARIA': {'SAN LAZARO': 1, 'PINO SUAREZ': 2, 'MORELOS': 1, 'JAMAICA': 2},\n",
    "    'JAMAICA': {'CANDELARIA': 2, 'CHABACANO': 1, 'PANTITLAN': 5, 'SANTA ANITA': 1},\n",
    "    'CHABACANO': {'JAMAICA': 1, 'PINO SUAREZ': 1, 'SALTO DEL AGUA': 3, 'CENTRO MEDICO': 2, 'SANTA ANITA': 2, 'ERMITA': 6},\n",
    "    'CENTRO MEDICO': {'CHABACANO': 2, 'BALDERAS': 3, 'TACUBAYA': 3, 'ZAPATA': 4},\n",
    "    'TACUBAYA': {'CENTRO MEDICO': 3, 'BALDERAS': 6, 'TACUBA': 5, 'MIXCOAC': 3},\n",
    "    'SANTA ANITA': {'CHABACANO': 2, 'JAMAICA': 1, 'ATLALILCO': 6},\n",
    "    'MIXCOAC': {'TACUBAYA': 3, 'ZAPATA': 3},\n",
    "    'ZAPATA': {'MIXCOAC': 3, 'CENTRO MEDICO': 4, 'ERMITA': 3},\n",
    "    'ERMITA': {'ZAPATA': 3, 'CHABACANO': 6, 'ATLALILCO': 2},\n",
    "    'ATLALILCO': {'ERMITA': 2, 'SANTA ANITA': 6},\n",
    "    'PANTITLAN': {'JAMAICA': 5, 'SAN LAZARO': 6, 'OCEANIA': 3}\n",
    "\n",
    "}\n",
    "\n"
   ]
  },
  {
   "cell_type": "code",
   "execution_count": 106,
   "metadata": {},
   "outputs": [],
   "source": [
    "# Define the starting and destination stations\n",
    "start_station = 'EL ROSARIO'\n",
    "destination_station = 'SAN LAZARO'\n",
    "\n",
    "# Define genetic algorithm parameters\n",
    "tournament_size = 100# cantidad de rutas que se van a seleccionar para competir\n",
    "population_size = 200#la cantidad de rutas posibles\n",
    "max_generations = 100\n",
    "mutation_rate = 1/population_size"
   ]
  },
  {
   "cell_type": "code",
   "execution_count": 107,
   "metadata": {},
   "outputs": [],
   "source": [
    "\n",
    "\n",
    "def generate_initial_population(population_size):\n",
    "    population = []\n",
    "    for _ in range(population_size):\n",
    "        route = [start_station]\n",
    "        current_station = start_station\n",
    "        while current_station != destination_station: # The loop ends when it reaches the destination station\n",
    "            next_station = random.choice(list(graph[current_station].keys())) # Select stations connected to the current station randomly\n",
    "            route.append(next_station) # Add the next station to the route list\n",
    "            current_station = next_station\n",
    "        population.append(route) # Add the new route to the list\n",
    "    return population\n"
   ]
  },
  {
   "cell_type": "code",
   "execution_count": 108,
   "metadata": {},
   "outputs": [],
   "source": [
    "def fitness(route):\n",
    "    # Función de aptitud que calcula el costo total de una ruta (distancia total)\n",
    "    total_cost = 0\n",
    "    for i in range(len(route) - 1):\n",
    "        # Calcula la distancia entre cada par de estaciones consecutivas en la ruta\n",
    "        if route[i+1] in graph[route[i]]:#si la siguiente estacion se encuentra en el grafo asociado a la estacion actual se suma la distancia entre nodos\n",
    "            total_cost += graph[route[i]][route[i+1]]\n",
    "            \n",
    "        else:\n",
    "            total_cost += 999  # Valor alto para penalizar rutas no válidas\n",
    "    return total_cost"
   ]
  },
  {
   "cell_type": "code",
   "execution_count": 109,
   "metadata": {},
   "outputs": [],
   "source": [
    "def tournament_selection(population, tournament_size):\n",
    "    selected_parents = []\n",
    "    while len(selected_parents) < population_size // 2:#mientras que la cantidad de rutas optimas sea menor que le mitad de la cantidad de rutas totales\n",
    "        tournament = random.sample(population, tournament_size)#selecciona n rutas, donde n = torunament_size\n",
    "        winner = min(tournament, key=fitness)#selecciona la ruta en donde se tenga la menor tiempo\n",
    "        selected_parents.append(winner)#se van agrupando a las mejores rutas\n",
    "    return selected_parents\n",
    "\n",
    "def crossover(parent1, parent2):#cruazamiento de un punto\n",
    "    crossover_point = random.randint(1, len(parent1) - 1)\n",
    "    child = parent1[:crossover_point] + parent2[crossover_point:]\n",
    "    return child\n",
    "\n",
    "\n",
    "def mutate(route):\n",
    "    mutated_route = route[:]\n",
    "    for i in range(1, len(mutated_route) - 1):\n",
    "        if random.random() < mutation_rate:#si la mutatuion_rate es menor que un numero aleatorio entre cero y un se ejecuta la mutacion \n",
    "            current_station = mutated_route[i]\n",
    "            if current_station != destination_station:#la estacion final siempre debe de ser diferente a la estacion que se va a cambiar\n",
    "                possible_next_stations = [station for station in graph[current_station] if station != destination_station and station not in mutated_route[:i]]\n",
    "                if possible_next_stations:\n",
    "                    new_station = random.choice(possible_next_stations)\n",
    "                    mutated_route[i] = new_station\n",
    "            else:\n",
    "                # Ensure the destination station is included in the route\n",
    "                mutated_route[-1] = destination_station\n",
    "    return mutated_route"
   ]
  },
  {
   "cell_type": "code",
   "execution_count": 110,
   "metadata": {},
   "outputs": [
    {
     "name": "stdout",
     "output_type": "stream",
     "text": [
      "Best Route: ['EL ROSARIO', 'INSTITUTO DEL PETROLEO', 'DEPORTIVO 18 DE MARZO', 'LA RAZA', 'CONSULADO', 'MORELOS', 'SAN LAZARO']\n",
      "Total Cost: 16\n"
     ]
    }
   ],
   "source": [
    "# Genetic Algorithm \n",
    "population = generate_initial_population(population_size)\n",
    "for generation in range(max_generations):\n",
    "    parents = tournament_selection(population, tournament_size)\n",
    "    #best_route = min(population, key=fitness)\n",
    "    #print(f\"Generation {generation}: Best Route - {best_route}, Total Cost - {fitness(best_route)}\")\n",
    "    new_population = []\n",
    "    while len(new_population) < population_size:\n",
    "        parent1 = random.choice(population)\n",
    "        parent2 = random.choice(population)\n",
    "        child = crossover(parent1, parent2)\n",
    "        child = mutate(child)\n",
    "        new_population.append(child)\n",
    "    population.extend(new_population)#agrega las nuevas rutas \n",
    "\n",
    "best_route = min(population, key=fitness)\n",
    "print(\"Best Route:\", best_route)\n",
    "print(\"Total Cost:\", fitness(best_route))\n"
   ]
  }
 ],
 "metadata": {
  "kernelspec": {
   "display_name": "labSpyder",
   "language": "python",
   "name": "python3"
  },
  "language_info": {
   "codemirror_mode": {
    "name": "ipython",
    "version": 3
   },
   "file_extension": ".py",
   "mimetype": "text/x-python",
   "name": "python",
   "nbconvert_exporter": "python",
   "pygments_lexer": "ipython3",
   "version": "3.10.11"
  }
 },
 "nbformat": 4,
 "nbformat_minor": 2
}
